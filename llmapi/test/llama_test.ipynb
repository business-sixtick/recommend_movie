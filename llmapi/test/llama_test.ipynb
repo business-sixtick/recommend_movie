{
 "cells": [
  {
   "cell_type": "code",
   "execution_count": null,
   "metadata": {},
   "outputs": [
    {
     "name": "stderr",
     "output_type": "stream",
     "text": [
      "2024-12-10 12:24:11.931668: I tensorflow/core/util/port.cc:153] oneDNN custom operations are on. You may see slightly different numerical results due to floating-point round-off errors from different computation orders. To turn them off, set the environment variable `TF_ENABLE_ONEDNN_OPTS=0`.\n",
      "2024-12-10 12:24:11.939703: E external/local_xla/xla/stream_executor/cuda/cuda_fft.cc:485] Unable to register cuFFT factory: Attempting to register factory for plugin cuFFT when one has already been registered\n",
      "2024-12-10 12:24:11.950674: E external/local_xla/xla/stream_executor/cuda/cuda_dnn.cc:8454] Unable to register cuDNN factory: Attempting to register factory for plugin cuDNN when one has already been registered\n",
      "2024-12-10 12:24:11.953817: E external/local_xla/xla/stream_executor/cuda/cuda_blas.cc:1452] Unable to register cuBLAS factory: Attempting to register factory for plugin cuBLAS when one has already been registered\n",
      "2024-12-10 12:24:11.961601: I tensorflow/core/platform/cpu_feature_guard.cc:210] This TensorFlow binary is optimized to use available CPU instructions in performance-critical operations.\n",
      "To enable the following instructions: AVX2 AVX512F AVX512_VNNI FMA, in other operations, rebuild TensorFlow with the appropriate compiler flags.\n",
      "2024-12-10 12:24:12.471278: W tensorflow/compiler/tf2tensorrt/utils/py_utils.cc:38] TF-TRT Warning: Could not find TensorRT\n",
      "/tmp/ipykernel_48824/1521737441.py:16: LangChainDeprecationWarning: The class `LLMChain` was deprecated in LangChain 0.1.17 and will be removed in 1.0. Use :meth:`~RunnableSequence, e.g., `prompt | llm`` instead.\n",
      "  chain = LLMChain(llm = llm , prompt = prompt)\n",
      "/tmp/ipykernel_48824/1521737441.py:17: LangChainDeprecationWarning: The method `Chain.run` was deprecated in langchain 0.1.0 and will be removed in 1.0. Use :meth:`~invoke` instead.\n",
      "  chain.run('대한민국')\n"
     ]
    },
    {
     "data": {
      "text/plain": [
       "'대한민국의 수도는 서울입니다. 서울은 대한민국의 정치, 경제, 문화, 교육의 중심지로, 많은 관공기관과 대기업이 위치해 있습니다. 또한, 다양한 역사적 명소와 현대적인 시설이 어우러져 세계적으로 유명한 도시 중 하나입니다.'"
      ]
     },
     "execution_count": 1,
     "metadata": {},
     "output_type": "execute_result"
    }
   ],
   "source": [
    "from langchain.chains import LLMChain\n",
    "from langchain import PromptTemplate\n",
    "from langchain.llms.ollama import Ollama # ollama LLM모델\n",
    "from langchain.llms import LlamaCpp \n",
    "import os\n",
    "from vllm import LLM\n",
    "from llama_cpp import Llama\n",
    "from transformers import AutoTokenizer\n",
    "\n",
    "llm = Ollama(base_url='http://127.0.0.1:11434', model='kor8b')\n",
    "prompt = PromptTemplate(\n",
    "    input_variables = ['product'],\n",
    "    template = '{product}의 수도는 어디야',\n",
    ")\n",
    "\n",
    "chain = LLMChain(llm = llm , prompt = prompt)\n",
    "chain.run('대한민국')\n"
   ]
  },
  {
   "cell_type": "code",
   "execution_count": 4,
   "metadata": {},
   "outputs": [
    {
     "data": {
      "text/plain": [
       "'대한민국의 수도는 서울입니다. 서울특별시가 대한민국의 수도이자 중심지로, 각종 정부 기관, 재단, 기업들이 주로 위치해 있습니다. 또한 서울은 문화, 경제, 교통망 등 다양한 면에서 대한민국의 중심 역할을 하고 있습니다.'"
      ]
     },
     "execution_count": 4,
     "metadata": {},
     "output_type": "execute_result"
    }
   ],
   "source": [
    "from langchain.chains import LLMChain\n",
    "from langchain import PromptTemplate\n",
    "from langchain.llms.ollama import Ollama # ollama LLM모델\n",
    "\n",
    "llm = Ollama(base_url='http://127.0.0.1:11434', model='kor8b')\n",
    "prompt = PromptTemplate(\n",
    "    input_variables = ['product'],\n",
    "    template = '{product}의 수도는 어디야',\n",
    ")\n",
    "\n",
    "chain = LLMChain(llm = llm , prompt = prompt)\n",
    "chain.run('대한민국')"
   ]
  }
 ],
 "metadata": {
  "kernelspec": {
   "display_name": "venv",
   "language": "python",
   "name": "python3"
  },
  "language_info": {
   "codemirror_mode": {
    "name": "ipython",
    "version": 3
   },
   "file_extension": ".py",
   "mimetype": "text/x-python",
   "name": "python",
   "nbconvert_exporter": "python",
   "pygments_lexer": "ipython3",
   "version": "3.12.3"
  }
 },
 "nbformat": 4,
 "nbformat_minor": 2
}
