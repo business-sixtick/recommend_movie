{
 "cells": [
  {
   "cell_type": "code",
   "execution_count": null,
   "metadata": {},
   "outputs": [],
   "source": [
    "#mysql 연결\n",
    "\n",
    "import mysql.connector\n",
    "\n",
    "db = mysql.connector.connect(\n",
    "    host='192.168.0.26', #외부 서버 ip 주소\n",
    "    user='ahncho',\n",
    "    password='dkswh18',\n",
    "    database='movie'\n",
    ")\n",
    "\n",
    "cursor = db.cursor()"
   ]
  },
  {
   "cell_type": "code",
   "execution_count": null,
   "metadata": {},
   "outputs": [],
   "source": [
    "#html 요소 크롤링해서 리턴하기\n",
    "#그런데 문자열만 나오지 않는다\n",
    "\n",
    "import requests\n",
    "from bs4 import BeautifulSoup\n",
    "\n",
    "def scrape_page(url):\n",
    "    response = requests.get(url)\n",
    "    \n",
    "    if response.status_code == 200:\n",
    "        soup = BeautifulSoup(response.content, 'html.parser')\n",
    "        \n",
    "        title = [tag.text for tag in soup.select('div.na1')]\n",
    "        \n",
    "        return title"
   ]
  },
  {
   "cell_type": "code",
   "execution_count": 8,
   "metadata": {},
   "outputs": [
    {
     "data": {
      "text/plain": [
       "['\\r\\n\\t\\t\\t\\t\\t\\t베테랑\\xa0\\r\\n\\t\\t\\t\\t\\t\\t\\r\\n\\t\\t\\t\\t\\t\\t\\r\\n\\t\\t\\t\\t\\t']"
      ]
     },
     "execution_count": 8,
     "metadata": {},
     "output_type": "execute_result"
    }
   ],
   "source": [
    "scrape_page('https://www.kmdb.or.kr/db/kor/detail/movie/K/14173')"
   ]
  },
  {
   "cell_type": "code",
   "execution_count": 59,
   "metadata": {},
   "outputs": [],
   "source": [
    "#화면에 뿌려지는 문자열만 받기\n",
    "\n",
    "import requests\n",
    "from bs4 import BeautifulSoup\n",
    "\n",
    "def scrape_page(url):\n",
    "    response = requests.get(url)\n",
    "    \n",
    "    if response.status_code == 200:\n",
    "        soup = BeautifulSoup(response.content, 'html.parser')\n",
    "        \n",
    "        title = soup.select_one('div.na1').get_text(strip=True)\n",
    "        #해당 클래스를 골라 문자열만 받겠다\n",
    "        \n",
    "        relYear = soup.select_one('a.txtBlue').get_text(strip=True)\n",
    "        \n",
    "        rating = soup.select('span.dots')[0].get_text(strip=True)\n",
    "        \n",
    "        runTime = soup.select('span.dots')[2].get_text(strip=True)\n",
    "        \n",
    "        genres = soup.select('a[onclick^=\"fcnGenereSearch\"]')   \n",
    "        genre_list = [g.get_text(strip=True).replace('#', '') for g in genres]\n",
    "        genre = ', '.join(genre_list)\n",
    "             \n",
    "        director = soup.select_one('a[onclick^=\"fcnPersonDetail\"]').get_text(strip=True)\n",
    "        \n",
    "        actor = soup.select_one('div.na1').get_text(strip=True)\n",
    "        \n",
    "        # preStory = soup.select_one('div.mTxt3.mDSummary.open')\n",
    "        # story_text = preStory.prettify()\n",
    "        # story_text = story_text.replace('<br/>', '/').replace('<br>', '/')\n",
    "        # story = BeautifulSoup(story_text, 'html.parser').get_text(strip=True)\n",
    "        \n",
    "        prod = soup.select_one('div.na1').get_text(strip=True)\n",
    "        \n",
    "        nation = soup.select('span.dots')[1].get_text(strip=True)\n",
    "        \n",
    "        etc = soup.select_one('div.na1').get_text(strip=True)\n",
    "        \n",
    "    return title, relYear, rating, runTime, genre, director, nation"
   ]
  },
  {
   "cell_type": "code",
   "execution_count": 60,
   "metadata": {},
   "outputs": [
    {
     "data": {
      "text/plain": [
       "('베테랑', '2014', '15세관람가', '123분', '드라마, 액션', '류승완', '대한민국')"
      ]
     },
     "execution_count": 60,
     "metadata": {},
     "output_type": "execute_result"
    }
   ],
   "source": [
    "scrape_page('https://www.kmdb.or.kr/db/kor/detail/movie/K/14173')"
   ]
  }
 ],
 "metadata": {
  "kernelspec": {
   "display_name": "mov",
   "language": "python",
   "name": "python3"
  },
  "language_info": {
   "codemirror_mode": {
    "name": "ipython",
    "version": 3
   },
   "file_extension": ".py",
   "mimetype": "text/x-python",
   "name": "python",
   "nbconvert_exporter": "python",
   "pygments_lexer": "ipython3",
   "version": "3.11.10"
  }
 },
 "nbformat": 4,
 "nbformat_minor": 2
}
